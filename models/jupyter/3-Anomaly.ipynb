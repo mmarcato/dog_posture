{
 "cells": [
  {
   "cell_type": "code",
   "execution_count": 3,
   "metadata": {},
   "outputs": [
    {
     "name": "stdout",
     "output_type": "stream",
     "text": [
      "Number of Logical processors:  40\n"
     ]
    }
   ],
   "source": [
    "''' \n",
    "    Copyright (C) 2022 by Marinara Marcato\n",
    "         <marinara.marcato@tyndall.ie>, Tyndall National Institute\n",
    "        University College Cork, Cork, Ireland.\n",
    "'''\n",
    "\n",
    "# ------------------------------------------------------------------------- #\n",
    "#                                  Imports                                  #    \n",
    "# ------------------------------------------------------------------------- # \n",
    "import os, joblib, sys\n",
    "from time import time\n",
    "import pandas as pd\n",
    "import numpy as np\n",
    "\n",
    "from sklearn.base import BaseEstimator, TransformerMixin\n",
    "from sklearn.feature_selection import SelectKBest, f_classif\n",
    "from sklearn.model_selection import GroupKFold, GridSearchCV\n",
    "\n",
    "import multiprocessing as mp\n",
    "print(\"Number of Logical processors: \", mp.cpu_count())\n",
    "\n",
    "\n",
    "# ------------------------------------------------------------------------- #\n",
    "#                             Local Imports                                 #    \n",
    "# ------------------------------------------------------------------------- # \n",
    "\n",
    "# Define local directories\n",
    "dir_current = os.getcwd()\n",
    "dir_base = os.path.dirname(dir_current)\n",
    "dir_modules = os.path.join(dir_base, 'src', '__modules__')\n",
    "# Set path variable\n",
    "sys.path.append(dir_modules)\n",
    "\n",
    "# Local Modules\n",
    "import imports, analyse, learn, evaluate "
   ]
  },
  {
   "cell_type": "code",
   "execution_count": 4,
   "metadata": {},
   "outputs": [],
   "source": [
    "# ------------------------------------------------------------------------- #\n",
    "#                           Model Parameters                                #    \n",
    "# ------------------------------------------------------------------------- # \n",
    "\n",
    "# select dataset  \n",
    "ft = 'final'\n",
    "# select model parameters\n",
    "exp = 3\n",
    "mdl = 'anomaly'\n",
    "slt = 'SKB'\n",
    "clf = 'RF'\n",
    "param = 1 \n",
    "run = '{}-{}-{}-{}-{}.pkl'.format(exp, mdl, slt, clf, param)\n",
    "\n",
    "\n",
    "# directory where the dataset is located\n",
    "dir_df = os.path.join(dir_base, 'data', ft)\n",
    "# directory to save the model\n",
    "dir_model = os.path.join(dir_base, 'models', ft)\n",
    "\n",
    "# ------------------------------------------------------------------------- #\n",
    "#                                   Classes                                 #    \n",
    "# ------------------------------------------------------------------------- # \n",
    "\n",
    "class DataFrameSelector(BaseEstimator, TransformerMixin):\n",
    "    def __init__(self, attribute_names, dtype=None):\n",
    "        self.attribute_names = attribute_names\n",
    "        self.dtype = dtype\n",
    "    def fit(self, X, y=None):\n",
    "        return self\n",
    "    def transform(self, X):\n",
    "        X_selected = X[self.attribute_names]\n",
    "        if self.dtype:\n",
    "            return X_selected.astype(self.dtype).values\n",
    "        return X_selected.values\n",
    "\n",
    "class gs_results:\n",
    "    # Storing Grid Search results\n",
    "    def __init__(self, gs):\n",
    "        self.cv_results_ = gs.cv_results_\n",
    "        self.best_estimator_ = gs.best_estimator_\n",
    "        self.best_params_ = gs.best_params_\n",
    "        self.best_score_ = gs.best_score_\n",
    "\n"
   ]
  },
  {
   "cell_type": "code",
   "execution_count": 5,
   "metadata": {},
   "outputs": [],
   "source": [
    "# ------------------------------------------------------------------------- #\n",
    "#                              Importing Dataset                            #\n",
    "# ------------------------------------------------------------------------- #\n",
    "# importing previously created dataset\n",
    "df = pd.read_csv(os.path.join(dir_df, 'df-all-dev.csv'), \n",
    "                index_col = ['Timestamp'], \n",
    "                parse_dates = ['Timestamp'],\n",
    "                dayfirst = True,\n",
    "                date_parser = lambda x: pd.to_datetime(x, format = '%Y-%m-%d %H:%M:%S.%f')    )\n",
    "\n",
    "# define all features \n",
    "feat = df.columns[:-6]\n",
    "\n",
    "# prepare dataframe for evaluation: select features, label,\n",
    "#   cv strategy (group = dogs, stractified folds labels proportion)\n",
    "X = df.loc[:, feat]\n",
    "y = df.loc[:, 'Shake'].values\n",
    "groups = df.loc[:,'Dog']"
   ]
  },
  {
   "cell_type": "code",
   "execution_count": 6,
   "metadata": {},
   "outputs": [],
   "source": [
    "# ------------------------------------------------------------------------- #\n",
    "#                Machine Learning - Isolation Forest                        #\n",
    "# ------------------------------------------------------------------------- # \n",
    "\n",
    "from imblearn.pipeline import Pipeline\n",
    "from sklearn.ensemble import IsolationForest\n",
    "\n",
    "pipe = Pipeline([ \n",
    "    ('ft', DataFrameSelector(feat,'float64')),\n",
    "    ('slt', SelectKBest(score_func = f_classif)),\n",
    "    ('clf', IsolationForest(n_jobs = 1, random_state = 0,\n",
    "                max_features = 1.0 # selects all features\n",
    "                ))]\n",
    "    )\n",
    "\n",
    "params = { \n",
    "            'slt__k':  [10],#, 20, 30, 50, 80, 120], \n",
    "            #'clf__n_estimators': [25, 50, 100, 250, 500],\n",
    "            'clf__contamination': [0.005],# 0.01]#, 0.05, 0.1]\n",
    "        }\n",
    "\n",
    "\n",
    "cv = GroupKFold(n_splits = 10).split(X, y, groups = groups)"
   ]
  },
  {
   "cell_type": "code",
   "execution_count": 7,
   "metadata": {},
   "outputs": [
    {
     "name": "stderr",
     "output_type": "stream",
     "text": [
      "/ichec/work/tieng028c/venv/lib/python3.7/site-packages/sklearn/feature_selection/_univariate_selection.py:112: UserWarning: Features [1618] are constant.\n",
      "  warnings.warn(\"Features %s are constant.\" % constant_features_idx, UserWarning)\n",
      "/ichec/work/tieng028c/venv/lib/python3.7/site-packages/sklearn/feature_selection/_univariate_selection.py:113: RuntimeWarning: invalid value encountered in true_divide\n",
      "  f = msb / msw\n"
     ]
    },
    {
     "name": "stdout",
     "output_type": "stream",
     "text": [
      "--- 10.87852692604065 seconds ---\n",
      "/ichec/home/users/mmarcato/dog_posture/jupyter/3-anomaly-SKB-RF-1.pkl\n"
     ]
    },
    {
     "data": {
      "text/plain": [
       "['/ichec/home/users/mmarcato/dog_posture/jupyter/3-anomaly-SKB-RF-1.pkl']"
      ]
     },
     "execution_count": 7,
     "metadata": {},
     "output_type": "execute_result"
    }
   ],
   "source": [
    "\n",
    "# ------------------------------------------------------------------------- #\n",
    "#                    Machine Learning - One-Class SVM                       #\n",
    "# ------------------------------------------------------------------------- # \n",
    "start_time = time()\n",
    "gs = GridSearchCV(pipe, param_grid = params, \n",
    "        scoring = 'f1_weighted', \\\n",
    "        n_jobs = 40, cv = cv, return_train_score = True)\n",
    "gs.fit(X,y, groups = groups)\n",
    "end_time = time()\n",
    "duration = end_time - start_time\n",
    "print(\"--- %s seconds ---\" % (duration))\n",
    "\n",
    "\n",
    "# save gs results to pickle file\n",
    "gs_path = os.path.join(dir_current, run)\n",
    "print(gs_path)\n",
    "joblib.dump(gs_results(gs), gs_path, compress = 1 )"
   ]
  },
  {
   "cell_type": "code",
   "execution_count": 8,
   "metadata": {},
   "outputs": [
    {
     "name": "stdout",
     "output_type": "stream",
     "text": [
      "Evaluate Grid Search output\n",
      "\n",
      "Best Estimator \n",
      "Test mean: 0.9949\t std: 0.0030\n",
      "Train mean: 0.9949 \t std:  0.0003\n",
      "parameters: {'clf__contamination': 0.005, 'slt__k': 10}\n",
      "param_clf__contamination 1 [0.005]\n",
      "param_slt__k 1 [10]\n",
      "Hyperparameters combinations:  1\n"
     ]
    }
   ],
   "source": [
    "\n",
    "# load grid search results from pickle file\n",
    "gs_path = os.path.join(dir_base, 'jupyter')\n",
    "gs_rf =  joblib.load(os.path.join(gs_path, run))\n",
    "print('Evaluate Grid Search output\\n')\n",
    "evaluate.gs_output(gs_rf)\n",
    "\n",
    "# add cv results to a dataframe \n",
    "df_cv = pd.DataFrame(gs_rf.cv_results_)\n",
    "df_cv['train_test_gap'] = df_cv['mean_train_score'] - df_cv['mean_test_score']\n",
    "opt = df_cv.filter(like = \"param_\").columns.to_list()\n",
    "for col in opt: print(col, len(df_cv[col].unique()), df_cv[col].unique())\n",
    "print('Hyperparameters combinations: ', df_cv.shape[0])"
   ]
  },
  {
   "cell_type": "code",
   "execution_count": 10,
   "metadata": {},
   "outputs": [
    {
     "name": "stdout",
     "output_type": "stream",
     "text": [
      "\n",
      "\n",
      "Import Test Set\n",
      "\n",
      "Model: anomaly\n",
      "Dataset: (4866, 3336)\n",
      "Label: Shake\n",
      "-1      18\n",
      " 1    4848\n",
      "Name: Shake, dtype: int64\n"
     ]
    }
   ],
   "source": [
    "\n",
    "# ------------------------------------------------------------------------- #\n",
    "#                             Import Test data                              #\n",
    "# ------------------------------------------------------------------------- #\n",
    "print('\\n\\nImport Test Set\\n')\n",
    "# directory where the datasets are located\n",
    "df_dir = os.path.join(dir_base, 'data', 'final')\n",
    "\n",
    "# select test dataframe and label according to model\n",
    "# EXPERIMENT 3 - ANOMALY\n",
    "label = 'Shake'\n",
    "# df_test = imports.posture(df_dir, 'df-all-test')\n",
    "df_test = pd.read_csv(os.path.join(dir_df, 'df-all-test.csv'), \n",
    "                index_col = ['Timestamp'], \n",
    "                parse_dates = ['Timestamp'],\n",
    "                dayfirst = True,\n",
    "                date_parser = lambda x: pd.to_datetime(x, format = '%Y-%m-%d %H:%M:%S.%f')    )\n",
    "\n",
    "# print dataframe stats\n",
    "print('Model:', mdl)\n",
    "print('Dataset:', df_test.shape)\n",
    "print('Label:', df_test.groupby(label)[label].count())\n",
    "\n",
    "# select test data for prediction\n",
    "X_true = df_test.iloc[:,:-6]\n",
    "y_true = df_test.loc[:, label]\n",
    "labels = y_true.unique()\n"
   ]
  },
  {
   "cell_type": "code",
   "execution_count": 13,
   "metadata": {},
   "outputs": [
    {
     "name": "stdout",
     "output_type": "stream",
     "text": [
      "   label  f1_score\n",
      "0      1  0.998143\n",
      "1     -1  0.550000\n",
      "\n",
      "f1 scores\n",
      "macro: 0.7741\n",
      "micro: 0.9963\n",
      "weighted: 0.9965\n"
     ]
    },
    {
     "data": {
      "text/plain": [
       "<sklearn.metrics._plot.confusion_matrix.ConfusionMatrixDisplay at 0x2af0773a6cd0>"
      ]
     },
     "execution_count": 13,
     "metadata": {},
     "output_type": "execute_result"
    },
    {
     "data": {
      "image/png": "[encoded data removed]",
      "text/plain": [
       "<Figure size 432x288 with 2 Axes>"
      ]
     },
     "metadata": {
      "needs_background": "light"
     },
     "output_type": "display_data"
    }
   ],
   "source": [
    "from sklearn.metrics import ConfusionMatrixDisplay, f1_score\n",
    "# ------------------------------------------------------------------------- #\n",
    "#              Calculate f1-scores for model in Test Set                    #\n",
    "# ------------------------------------------------------------------------- #\n",
    "# Use best estimator to predict on test set\n",
    "y_rf = gs_rf.best_estimator_.predict(X_true)\n",
    "\n",
    "## Calculate f1-scores\n",
    "df_f1_class = pd.DataFrame({\n",
    "    'label':  labels,\n",
    "    'f1_score': f1_score(y_true, y_rf, labels = labels, average = None)\n",
    "})\n",
    "\n",
    "print(df_f1_class)\n",
    "print('\\nf1 scores')\n",
    "print('macro: {:0.4f}'.format(f1_score(y_true, y_rf, average = 'macro')))\n",
    "print('micro: {:0.4f}'.format(f1_score(y_true, y_rf, average = 'micro')))\n",
    "print('weighted: {:0.4f}'.format(f1_score(y_true, y_rf, average = 'weighted')))\n",
    "\n",
    "# Confusion matrix\n",
    "ConfusionMatrixDisplay.from_predictions(y_true, y_rf, xticks_rotation = 45)\n"
   ]
  },
  {
   "cell_type": "code",
   "execution_count": null,
   "metadata": {},
   "outputs": [],
   "source": []
  }
 ],
 "metadata": {
  "kernelspec": {
   "display_name": "Python [conda env:venv]",
   "language": "python",
   "name": "conda-env-venv-py"
  },
  "language_info": {
   "codemirror_mode": {
    "name": "ipython",
    "version": 3
   },
   "file_extension": ".py",
   "mimetype": "text/x-python",
   "name": "python",
   "nbconvert_exporter": "python",
   "pygments_lexer": "ipython3",
   "version": "3.7.10"
  }
 },
 "nbformat": 4,
 "nbformat_minor": 4
}
